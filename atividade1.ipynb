{
 "nbformat": 4,
 "nbformat_minor": 0,
 "metadata": {
  "colab": {
   "provenance": [],
   "collapsed_sections": [
    "ehJFHmUlsJS_",
    "9mFz894Evs2f",
    "14DZtq5J5HxX",
    "xAEwId9F7tnJ",
    "nxU-S-2jAgTo",
    "xch9IW9vBkh6"
   ],
   "toc_visible": true,
   "authorship_tag": "ABX9TyN0QopWVbwrWAg0wXZ6t9bi",
   "include_colab_link": true
  },
  "kernelspec": {
   "name": "python3",
   "display_name": "Python 3"
  },
  "language_info": {
   "name": "python"
  }
 },
 "cells": [
  {
   "cell_type": "markdown",
   "metadata": {
    "id": "view-in-github",
    "colab_type": "text"
   },
   "source": [
    "<a href=\"https://colab.research.google.com/github/LucasFelip/python-basico/blob/master/atividade1.ipynb\" target=\"_parent\"><img src=\"https://colab.research.google.com/assets/colab-badge.svg\" alt=\"Open In Colab\"/></a>"
   ]
  },
  {
   "cell_type": "markdown",
   "source": [
    "# IFMA - Sistemas de Informação - Topicos Especiais I\n",
    "## Lucas Felipe dos Reis Ferreira\n",
    "## 20191SI0017 "
   ],
   "metadata": {
    "id": "nEJdHA0tFVMm"
   }
  },
  {
   "cell_type": "markdown",
   "source": [
    "# Questão 1\n",
    "Defina uma lista de dicionários representando informações sobre algum problema real do seu dia a dia. Mostre 1 exemplo de filtragem desta lista da seguinte forma:\n",
    "\n",
    "a) sem list comprehension\n",
    "\n",
    "b) com list comprehension"
   ],
   "metadata": {
    "id": "ehJFHmUlsJS_"
   }
  },
  {
   "cell_type": "code",
   "source": [
    "filmes = [    {'titulo': 'A Viagem de Chihiro', 'genero': 'Animação', 'ano': 2001},    {'titulo': 'O Poderoso Chefão', 'genero': 'Drama', 'ano': 1972},    {'titulo': 'Cidade de Deus', 'genero': 'Drama', 'ano': 2002},    {'titulo': 'Interestelar', 'genero': 'Ficção científica', 'ano': 2014},    {'titulo': 'La La Land: Cantando Estações', 'genero': 'Musical', 'ano': 2016},    {'titulo': 'Clube da Luta', 'genero': 'Drama', 'ano': 1999}]\n"
   ],
   "metadata": {
    "id": "kKuo6MABs2jH"
   },
   "execution_count": 26,
   "outputs": []
  },
  {
   "cell_type": "code",
   "source": [
    "filmes_drama = []\n",
    "\n",
    "for filme in filmes:\n",
    "    if filme['genero'] == 'Drama':\n",
    "        filmes_drama.append(filme['titulo'])\n",
    "\n",
    "print(\"Filmes de drama:\", filmes_drama)"
   ],
   "metadata": {
    "colab": {
     "base_uri": "https://localhost:8080/"
    },
    "id": "jTzMCfY_sOOK",
    "outputId": "c5e475ff-61ec-4a45-cf40-7558e3511f61"
   },
   "execution_count": 25,
   "outputs": [
    {
     "output_type": "stream",
     "name": "stdout",
     "text": [
      "Filmes de drama: ['O Poderoso Chefão', 'Cidade de Deus', 'Clube da Luta']\n"
     ]
    }
   ]
  },
  {
   "cell_type": "code",
   "source": [
    "filmes_drama = [filme['titulo'] for filme in filmes if filme['genero'] == 'Drama']\n",
    "\n",
    "print(\"Filmes de drama:\", filmes_drama)"
   ],
   "metadata": {
    "colab": {
     "base_uri": "https://localhost:8080/"
    },
    "id": "c-a53Q3nsiv4",
    "outputId": "59d73228-2caf-41c6-a48b-ee06fd4994bb"
   },
   "execution_count": 16,
   "outputs": [
    {
     "output_type": "stream",
     "name": "stdout",
     "text": [
      "Filmes de drama: ['O Poderoso Chefão', 'Cidade de Deus', 'Clube da Luta']\n"
     ]
    }
   ]
  },
  {
   "cell_type": "markdown",
   "source": [
    "# Questão 2\n",
    "Defina uma função que combina duas listas de dicionários em uma nova lista a partir de uma chave em comum no estilo Join do SQL. De exêmplos de uso de sua função. Exemplo: L1 = [{'nome':'ana','idade':19},{'nome':'daniel', 'idade':23}], L2=[{'nome':'ana','salario':2500},{'nome':'daniel', 'salario':2100}] deve resultar em uma lista L3 = [\n",
    "{'nome':'ana','idade':19, 'salario':2500},{'nome':'daniel', 'idade':23, 'salario':2100}]. Por exemplo:  L3 = combina_listas_dict(L1, L2). Sua função deve funcionar para qualquer exemplo, não apenas o exemplo dado aqui."
   ],
   "metadata": {
    "id": "9mFz894Evs2f"
   }
  },
  {
   "cell_type": "code",
   "source": [
    "filmes_info_adicional = [    {'titulo': 'A Viagem de Chihiro', 'diretor': 'Hayao Miyazaki', 'duracao': 125},    {'titulo': 'O Poderoso Chefão', 'diretor': 'Francis Ford Coppola', 'duracao': 175},    {'titulo': 'Cidade de Deus', 'diretor': 'Fernando Meirelles', 'duracao': 130},    {'titulo': 'Interestelar', 'diretor': 'Christopher Nolan', 'duracao': 169},    {'titulo': 'La La Land: Cantando Estações', 'diretor': 'Damien Chazelle', 'duracao': 128},    {'titulo': 'Clube da Luta', 'diretor': 'David Fincher', 'duracao': 139}]\n"
   ],
   "metadata": {
    "id": "J_57jmhhv8Ge"
   },
   "execution_count": 28,
   "outputs": []
  },
  {
   "cell_type": "code",
   "source": [
    "def combina_listas_dict(lista1, lista2, chave):\n",
    "    dict_combinado = {}\n",
    "\n",
    "    for dict1 in lista1:\n",
    "        valor_chave = dict1[chave]\n",
    "        dict_combinado[valor_chave] = dict1.copy()\n",
    "\n",
    "    for dict2 in lista2:\n",
    "        valor_chave = dict2[chave]\n",
    "\n",
    "        if valor_chave in dict_combinado:\n",
    "            dict_combinado[valor_chave].update(dict2)\n",
    "        else:\n",
    "            dict_combinado[valor_chave] = dict2.copy()\n",
    "\n",
    "    return list(dict_combinado.values())\n"
   ],
   "metadata": {
    "id": "tTH4v0N_4ecd"
   },
   "execution_count": 29,
   "outputs": []
  },
  {
   "cell_type": "code",
   "source": [
    "L3 = combina_listas_dict(filmes, filmes_info_adicional, 'titulo')\n",
    "print(L3)"
   ],
   "metadata": {
    "colab": {
     "base_uri": "https://localhost:8080/"
    },
    "id": "M2MWT0yS49Yq",
    "outputId": "9fbc1741-43c9-4765-c292-c8f6d2f97dc3"
   },
   "execution_count": 30,
   "outputs": [
    {
     "output_type": "stream",
     "name": "stdout",
     "text": [
      "[{'titulo': 'A Viagem de Chihiro', 'genero': 'Animação', 'ano': 2001, 'diretor': 'Hayao Miyazaki', 'duracao': 125}, {'titulo': 'O Poderoso Chefão', 'genero': 'Drama', 'ano': 1972, 'diretor': 'Francis Ford Coppola', 'duracao': 175}, {'titulo': 'Cidade de Deus', 'genero': 'Drama', 'ano': 2002, 'diretor': 'Fernando Meirelles', 'duracao': 130}, {'titulo': 'Interestelar', 'genero': 'Ficção científica', 'ano': 2014, 'diretor': 'Christopher Nolan', 'duracao': 169}, {'titulo': 'La La Land: Cantando Estações', 'genero': 'Musical', 'ano': 2016, 'diretor': 'Damien Chazelle', 'duracao': 128}, {'titulo': 'Clube da Luta', 'genero': 'Drama', 'ano': 1999, 'diretor': 'David Fincher', 'duracao': 139}]\n"
     ]
    }
   ]
  },
  {
   "cell_type": "markdown",
   "source": [
    "# Questão 3\n",
    "Seja L1 = [1,2,3,4] e L2= [1,2,3,4] avalie e justifique sua respostas para os dois casos abaixo:\n",
    "\n",
    "a) L1==L2 ?\n",
    "\n",
    "b) L1 is L2 ?"
   ],
   "metadata": {
    "id": "14DZtq5J5HxX"
   }
  },
  {
   "cell_type": "code",
   "source": [
    "L1 = [1, 2, 3, 4]\n",
    "L2 = [1, 2, 3, 4]\n",
    "\n",
    "print(L1 == L2)\n",
    "print(L1 is L2)"
   ],
   "metadata": {
    "colab": {
     "base_uri": "https://localhost:8080/"
    },
    "id": "KGS7LZXH50gg",
    "outputId": "1887e681-945c-4ec7-a410-d0551383251f"
   },
   "execution_count": 33,
   "outputs": [
    {
     "output_type": "stream",
     "name": "stdout",
     "text": [
      "True\n",
      "False\n"
     ]
    }
   ]
  },
  {
   "cell_type": "markdown",
   "source": [
    "a) L1 == L2 compara o conteúdo das listas e retorna *True* se elas são iguais, logo têm os mesmos elementos na mesma ordem.\n",
    "\n",
    "b) L1 is L2 compara a identidade dos objetos se eles referem-se ao mesmo objeto, nesse caso retorna false."
   ],
   "metadata": {
    "id": "BdIOgekU6AOQ"
   }
  },
  {
   "cell_type": "markdown",
   "source": [
    "# Questão 4\n",
    "Defina uma função que possua parâmetros identificados e outros não identificados. Mostre exemplos de sua função com variações no uso dos parâmetros"
   ],
   "metadata": {
    "id": "xAEwId9F7tnJ"
   }
  },
  {
   "cell_type": "code",
   "source": [
    "def informacoes_filmes(titulo, *informacoes):\n",
    "    print(\"Titulo do filme:\", titulo)\n",
    "    for info in informacoes:\n",
    "        print(info)\n",
    "\n",
    "informacoes_filmes('A Viagem de Chihiro', 'Genero: Animação', 'Ano: 2001', 'Diretor: Hayao Miyazaki')\n",
    "\n"
   ],
   "metadata": {
    "colab": {
     "base_uri": "https://localhost:8080/"
    },
    "id": "7ZeJ33ZH7zNn",
    "outputId": "f1a31e7e-9fbd-4e9e-d5a7-a9f7676bdda5"
   },
   "execution_count": 34,
   "outputs": [
    {
     "output_type": "stream",
     "name": "stdout",
     "text": [
      "Titulo do filme: A Viagem de Chihiro\n",
      "Genero: Animação\n",
      "Ano: 2001\n",
      "Diretor: Hayao Miyazaki\n"
     ]
    }
   ]
  },
  {
   "cell_type": "code",
   "source": [
    "def imprime_filmes(*filmes, **parametros):\n",
    "    for filme in filmes:\n",
    "        print(\"Título:\", filme['titulo'])\n",
    "        print(\"Gênero:\", filme['genero'])\n",
    "        print(\"Ano:\", filme['ano'])\n",
    "        print(\"-----\")\n",
    "\n",
    "imprime_filmes(*filmes)"
   ],
   "metadata": {
    "colab": {
     "base_uri": "https://localhost:8080/"
    },
    "id": "oNyPdmTG_LoK",
    "outputId": "a37af776-dfae-473b-e49f-05ab16ccd332"
   },
   "execution_count": 36,
   "outputs": [
    {
     "output_type": "stream",
     "name": "stdout",
     "text": [
      "Título: A Viagem de Chihiro\n",
      "Gênero: Animação\n",
      "Ano: 2001\n",
      "-----\n",
      "Título: O Poderoso Chefão\n",
      "Gênero: Drama\n",
      "Ano: 1972\n",
      "-----\n",
      "Título: Cidade de Deus\n",
      "Gênero: Drama\n",
      "Ano: 2002\n",
      "-----\n",
      "Título: Interestelar\n",
      "Gênero: Ficção científica\n",
      "Ano: 2014\n",
      "-----\n",
      "Título: La La Land: Cantando Estações\n",
      "Gênero: Musical\n",
      "Ano: 2016\n",
      "-----\n",
      "Título: Clube da Luta\n",
      "Gênero: Drama\n",
      "Ano: 1999\n",
      "-----\n"
     ]
    }
   ]
  },
  {
   "cell_type": "markdown",
   "source": [
    "# Questão 5\n",
    "Em python o laço FOR não usa índices. Como então podemos percorrer duas listas imprimindo seus elementos relacionados? Por exemplo, a lista de meses e quantidade de água da chuva precipitada (https://www.climatempo.com.br/climatologia/94/saoluis-ma). Exemplo: meses = ['jan', 'fev', 'mar',... ,'nov', 'dez'] e precipitacao = [244, 373, 428, ..., 11, 77]."
   ],
   "metadata": {
    "id": "nxU-S-2jAgTo"
   }
  },
  {
   "cell_type": "code",
   "source": [
    "nomes = ['Ana', 'João', 'Maria']\n",
    "idades = [20, 25, 30]\n",
    "\n",
    "for nome, idade in zip(nomes, idades):\n",
    "    print(nome, idade)"
   ],
   "metadata": {
    "colab": {
     "base_uri": "https://localhost:8080/"
    },
    "id": "0xmRRE1PBDJ0",
    "outputId": "02f8d5ee-6217-4349-e0e2-6c7067769116"
   },
   "execution_count": 38,
   "outputs": [
    {
     "output_type": "stream",
     "name": "stdout",
     "text": [
      "Ana 20\n",
      "João 25\n",
      "Maria 30\n"
     ]
    }
   ]
  },
  {
   "cell_type": "code",
   "source": [
    "for filme, ano in zip(filmes, range(2001, 2017)):\n",
    "    print(f\"{filme['titulo']} ({ano}) - {filme['genero']}\")"
   ],
   "metadata": {
    "colab": {
     "base_uri": "https://localhost:8080/"
    },
    "id": "Wl4cCv3-BUIc",
    "outputId": "d7174af9-4a98-4495-ebfb-71f43ae7f271"
   },
   "execution_count": 39,
   "outputs": [
    {
     "output_type": "stream",
     "name": "stdout",
     "text": [
      "A Viagem de Chihiro (2001) - Animação\n",
      "O Poderoso Chefão (2002) - Drama\n",
      "Cidade de Deus (2003) - Drama\n",
      "Interestelar (2004) - Ficção científica\n",
      "La La Land: Cantando Estações (2005) - Musical\n",
      "Clube da Luta (2006) - Drama\n"
     ]
    }
   ]
  },
  {
   "cell_type": "markdown",
   "source": [
    "# Questão 6\n",
    "Escreva uma função que devolva uma matriz transposta a partir de uma dada em forma de lista de listas. De exemplos de uso. Não use numpy. Somente python básico."
   ],
   "metadata": {
    "id": "xch9IW9vBkh6"
   }
  },
  {
   "cell_type": "code",
   "source": [
    "matriz_original = [[1, 2, 3],\n",
    "                   [4, 5, 6],\n",
    "                   [7, 8, 9]]\n",
    "\n",
    "def matriz_transposta(matriz):\n",
    "    transposta = [list(x) for x in zip(*matriz)]\n",
    "    return transposta\n",
    "\n",
    "matriz_transposta = matriz_transposta(matriz_original)\n",
    "\n",
    "print(\"Matriz original:\")\n",
    "for linha in matriz_original:\n",
    "    print(linha)\n",
    "\n",
    "print(\"Matriz transposta:\")\n",
    "for linha in matriz_transposta:\n",
    "    print(linha)"
   ],
   "metadata": {
    "colab": {
     "base_uri": "https://localhost:8080/"
    },
    "id": "Wb3bd7sTED23",
    "outputId": "83db04da-4cec-4831-d9c7-e62983127f1a"
   },
   "execution_count": 42,
   "outputs": [
    {
     "output_type": "stream",
     "name": "stdout",
     "text": [
      "Matriz original:\n",
      "[1, 2, 3]\n",
      "[4, 5, 6]\n",
      "[7, 8, 9]\n",
      "Matriz transposta:\n",
      "[1, 4, 7]\n",
      "[2, 5, 8]\n",
      "[3, 6, 9]\n"
     ]
    }
   ]
  },
  {
   "cell_type": "code",
   "source": [
    "def matriz_transposta(lista):\n",
    "    return [[linha[i] for linha in lista] for i in range(len(lista[0]))]\n",
    "\n",
    "filmes_transpostos = matriz_transposta([list(filme.values()) for filme in filmes])\n",
    "\n",
    "for linha in filmes_transpostos:\n",
    "    print(linha)"
   ],
   "metadata": {
    "colab": {
     "base_uri": "https://localhost:8080/"
    },
    "id": "SdwJYLIQFBUb",
    "outputId": "ac5771e3-6dc7-45f4-db3c-97abd27c99ce"
   },
   "execution_count": 43,
   "outputs": [
    {
     "output_type": "stream",
     "name": "stdout",
     "text": [
      "['A Viagem de Chihiro', 'O Poderoso Chefão', 'Cidade de Deus', 'Interestelar', 'La La Land: Cantando Estações', 'Clube da Luta']\n",
      "['Animação', 'Drama', 'Drama', 'Ficção científica', 'Musical', 'Drama']\n",
      "[2001, 1972, 2002, 2014, 2016, 1999]\n"
     ]
    }
   ]
  }
 ]
}
